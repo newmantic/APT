{
  "nbformat": 4,
  "nbformat_minor": 0,
  "metadata": {
    "colab": {
      "provenance": [],
      "authorship_tag": "ABX9TyPVF+5k8EbNo+qHGKm7GwW/",
      "include_colab_link": true
    },
    "kernelspec": {
      "name": "python3",
      "display_name": "Python 3"
    },
    "language_info": {
      "name": "python"
    }
  },
  "cells": [
    {
      "cell_type": "markdown",
      "metadata": {
        "id": "view-in-github",
        "colab_type": "text"
      },
      "source": [
        "<a href=\"https://colab.research.google.com/github/newmantic/APT/blob/main/APT.ipynb\" target=\"_parent\"><img src=\"https://colab.research.google.com/assets/colab-badge.svg\" alt=\"Open In Colab\"/></a>"
      ]
    },
    {
      "cell_type": "code",
      "execution_count": 1,
      "metadata": {
        "colab": {
          "base_uri": "https://localhost:8080/"
        },
        "id": "yZqCS-Ub4Kgo",
        "outputId": "11f6b721-41df-4d11-94c2-226a0f7c9104"
      },
      "outputs": [
        {
          "output_type": "stream",
          "name": "stdout",
          "text": [
            "Estimated Betas: Factor1    1.429070\n",
            "Factor2    0.780878\n",
            "Factor3    1.217934\n",
            "dtype: float64\n",
            "Expected Return (using APT): 0.11\n"
          ]
        }
      ],
      "source": [
        "import numpy as np\n",
        "import pandas as pd\n",
        "import statsmodels.api as sm\n",
        "\n",
        "def estimate_betas(asset_returns, factor_returns):\n",
        "    \"\"\"\n",
        "    Estimate the betas (factor sensitivities) for an asset using regression analysis.\n",
        "\n",
        "    :param asset_returns: Array of returns for the asset\n",
        "    :param factor_returns: DataFrame of returns for the factors (each column is a factor)\n",
        "    :return: Array of betas for the asset\n",
        "    \"\"\"\n",
        "    factor_returns = sm.add_constant(factor_returns)  # Add intercept term\n",
        "    model = sm.OLS(asset_returns, factor_returns)\n",
        "    results = model.fit()\n",
        "    return results.params[1:]  # Return betas (excluding the intercept)\n",
        "\n",
        "def calculate_expected_return(risk_free_rate, betas, risk_premiums):\n",
        "    \"\"\"\n",
        "    Calculate the expected return of an asset using the APT formula.\n",
        "\n",
        "    :param risk_free_rate: Risk-free rate\n",
        "    :param betas: Array of betas (factor sensitivities) for the asset\n",
        "    :param risk_premiums: Array of risk premiums for the factors\n",
        "    :return: Expected return of the asset\n",
        "    \"\"\"\n",
        "    return risk_free_rate + np.dot(betas, risk_premiums)\n",
        "\n",
        "# Testable Example\n",
        "\n",
        "# Assume we have historical return data for an asset and three factors\n",
        "np.random.seed(42)\n",
        "factor1 = np.random.normal(0.02, 0.05, 100)  # Simulate factor 1 returns\n",
        "factor2 = np.random.normal(0.03, 0.04, 100)  # Simulate factor 2 returns\n",
        "factor3 = np.random.normal(0.01, 0.03, 100)  # Simulate factor 3 returns\n",
        "asset_returns = 0.03 + 1.5 * factor1 + 0.8 * factor2 + 1.2 * factor3 + np.random.normal(0, 0.02, 100)\n",
        "\n",
        "# Combine factors into a DataFrame\n",
        "factor_returns = pd.DataFrame({\n",
        "    'Factor1': factor1,\n",
        "    'Factor2': factor2,\n",
        "    'Factor3': factor3\n",
        "})\n",
        "\n",
        "# Parameters\n",
        "risk_free_rate = 0.01  # 1% risk-free rate\n",
        "risk_premiums = np.array([0.04, 0.03, 0.02])  # Assumed risk premiums for the factors\n",
        "\n",
        "# Estimate betas\n",
        "betas = estimate_betas(asset_returns, factor_returns)\n",
        "print(f\"Estimated Betas: {betas}\")\n",
        "\n",
        "# Calculate expected return using APT\n",
        "expected_return = calculate_expected_return(risk_free_rate, betas, risk_premiums)\n",
        "print(f\"Expected Return (using APT): {expected_return:.2f}\")"
      ]
    }
  ]
}